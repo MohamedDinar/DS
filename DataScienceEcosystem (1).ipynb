{
 "cells": [
  {
   "cell_type": "markdown",
   "id": "caa42b38-61c4-41c5-aee7-ad55e529fb99",
   "metadata": {},
   "source": [
    "# Data Science Tools and Ecosystem\n"
   ]
  },
  {
   "cell_type": "markdown",
   "id": "fd83511c-bbe1-4c5b-8120-87745f584fbd",
   "metadata": {
    "tags": []
   },
   "source": [
    "*In this notebook, Data Science Tools and Ecosystem are summarized*"
   ]
  },
  {
   "cell_type": "markdown",
   "id": "7a26489b-1c8e-4309-bd3b-d4f721827a95",
   "metadata": {},
   "source": [
    "**Objectives:**\n",
    "\n",
    "- List popular languages for Data Science.\n",
    "- Introduce arithmetic expression examples in Python.\n",
    "- Demonstrate multiplication and addition operations in code.\n",
    "- Convert minutes to hours using Python.\n",
    "- libraries used by Data Scientists. \n",
    "-  How to Use markdowns (Titles, Numburing lists , bullet points list and tables).  "
   ]
  },
  {
   "cell_type": "markdown",
   "id": "d4534695-6e81-4a85-b81e-3d70dab764fd",
   "metadata": {},
   "source": [
    "Some of the popular languages that Data Scientists use are:\n",
    "\n",
    "1. Python\n",
    "2. R\n",
    "3. SQL\n",
    "4. Julia\n",
    "5. MATLAB\n",
    "6. Scala\n",
    "7. Java\n",
    "8. C/C++\n",
    "9. SAS\n",
    "10. Perl\n"
   ]
  },
  {
   "cell_type": "markdown",
   "id": "ead95a2a-3f6d-4d8e-9779-f32541b5675a",
   "metadata": {},
   "source": [
    "Some of the commonly used libraries used by Data Scientists include:\n",
    "\n",
    "- NumPy: for numerical computing and array manipulation\n",
    "- pandas: for data manipulation and analysis\n",
    "- Matplotlib: for data visualization\n",
    "- scikit-learn: for machine learning algorithms and tools\n",
    "- TensorFlow: for deep learning and neural networks\n",
    "- PyTorch: for deep learning and neural networks\n",
    "- Keras: for building and training neural networks\n",
    "- SciPy: for scientific computing and statistical functions\n",
    "- Seaborn: for statistical data visualization\n",
    "- XGBoost: for gradient boosting algorithms\n",
    "- LightGBM: for gradient boosting algorithms\n",
    "- NLTK: for natural language processing tasks\n",
    "- spaCy: for advanced natural language processing tasks\n",
    "- StatsModels: for statistical modeling and analysis\n",
    "- Plotly: for interactive and dynamic visualizations\n",
    "\n"
   ]
  },
  {
   "cell_type": "code",
   "execution_count": 2,
   "id": "fcbc76d8-c645-4dc0-b902-35c97cba1f01",
   "metadata": {
    "tags": []
   },
   "outputs": [
    {
     "ename": "SyntaxError",
     "evalue": "invalid syntax (3626080270.py, line 1)",
     "output_type": "error",
     "traceback": [
      "\u001b[0;36m  File \u001b[0;32m\"/tmp/ipykernel_716/3626080270.py\"\u001b[0;36m, line \u001b[0;32m1\u001b[0m\n\u001b[0;31m    | Data Science Tools |\u001b[0m\n\u001b[0m    ^\u001b[0m\n\u001b[0;31mSyntaxError\u001b[0m\u001b[0;31m:\u001b[0m invalid syntax\n"
     ]
    }
   ],
   "source": [
    "| Data Science Tools |\n",
    "|-------------------|\n",
    "| Jupyter Notebook  |\n",
    "| RStudio           |\n",
    "| Apache Spark      |\n"
   ]
  },
  {
   "cell_type": "code",
   "execution_count": null,
   "id": "4fb8bd2a-a58a-4a4e-a244-6fa044b63776",
   "metadata": {},
   "outputs": [],
   "source": []
  }
 ],
 "metadata": {
  "kernelspec": {
   "display_name": "Python",
   "language": "python",
   "name": "conda-env-python-py"
  },
  "language_info": {
   "codemirror_mode": {
    "name": "ipython",
    "version": 3
   },
   "file_extension": ".py",
   "mimetype": "text/x-python",
   "name": "python",
   "nbconvert_exporter": "python",
   "pygments_lexer": "ipython3",
   "version": "3.7.12"
  }
 },
 "nbformat": 4,
 "nbformat_minor": 5
}
