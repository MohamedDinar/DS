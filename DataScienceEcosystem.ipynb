{
 "cells": [
  {
   "cell_type": "markdown",
   "id": "caa42b38-61c4-41c5-aee7-ad55e529fb99",
   "metadata": {},
   "source": [
    "# Data Science Tools and Ecosystem\n"
   ]
  },
  {
   "cell_type": "markdown",
   "id": "fd83511c-bbe1-4c5b-8120-87745f584fbd",
   "metadata": {
    "tags": []
   },
   "source": [
    "*In this notebook, Data Science Tools and Ecosystem are summarized*"
   ]
  },
  {
   "cell_type": "markdown",
   "id": "7a26489b-1c8e-4309-bd3b-d4f721827a95",
   "metadata": {},
   "source": [
    "**Objectives:**\n",
    "\n",
    "- List popular languages for Data Science.\n",
    "- Introduce arithmetic expression examples in Python.\n",
    "- Demonstrate multiplication and addition operations in code.\n",
    "- Convert minutes to hours using Python.\n",
    "- libraries used by Data Scientists. \n",
    "-  How to Use markdowns (Titles, Numburing lists , bullet points list and tables).  "
   ]
  },
  {
   "cell_type": "markdown",
   "id": "d4534695-6e81-4a85-b81e-3d70dab764fd",
   "metadata": {},
   "source": [
    "Some of the popular languages that Data Scientists use are:\n",
    "\n",
    "1. Python\n",
    "2. R\n",
    "3. SQL\n",
    "4. Julia\n",
    "5. MATLAB\n",
    "6. Scala\n",
    "7. Java\n",
    "8. C/C++\n",
    "9. SAS\n",
    "10. Perl\n"
   ]
  },
  {
   "cell_type": "markdown",
   "id": "ead95a2a-3f6d-4d8e-9779-f32541b5675a",
   "metadata": {},
   "source": [
    "Some of the commonly used libraries used by Data Scientists include:\n",
    "\n",
    "- NumPy: for numerical computing and array manipulation\n",
    "- pandas: for data manipulation and analysis\n",
    "- Matplotlib: for data visualization\n",
    "- scikit-learn: for machine learning algorithms and tools\n",
    "- TensorFlow: for deep learning and neural networks\n",
    "- PyTorch: for deep learning and neural networks\n",
    "- Keras: for building and training neural networks\n",
    "- SciPy: for scientific computing and statistical functions\n",
    "- Seaborn: for statistical data visualization\n",
    "- XGBoost: for gradient boosting algorithms\n",
    "- LightGBM: for gradient boosting algorithms\n",
    "- NLTK: for natural language processing tasks\n",
    "- spaCy: for advanced natural language processing tasks\n",
    "- StatsModels: for statistical modeling and analysis\n",
    "- Plotly: for interactive and dynamic visualizations\n",
    "\n"
   ]
  },
  {
   "cell_type": "markdown",
   "id": "e8d33a10-8243-49b7-b736-d413701e80a5",
   "metadata": {
    "tags": []
   },
   "source": [
    "| Data Science Tools |\n",
    "|-------------------|\n",
    "| Jupyter Notebook  |\n",
    "| RStudio           |\n",
    "| Apache Spark      |\n"
   ]
  },
  {
   "cell_type": "markdown",
   "id": "3b3abbaf-6db5-4502-a4aa-e22387862845",
   "metadata": {},
   "source": [
    "### Below are a few examples of evaluating arithmetic expressions in Python.\n",
    "\n",
    "- Addition: `2 + 3 = 5`\n",
    "- Subtraction: `10 - 5 = 5`\n",
    "- Multiplication: `4 * 6 = 24`\n",
    "- Division: `12 / 3 = 4`\n",
    "- Exponentiation: `2 ** 4 = 16`\n",
    "- Modulo (Remainder): `10 % 3 = 1`\n",
    "\n",
    "These are just a few basic examples, but Python supports a wide range of arithmetic operations and expressions.\n"
   ]
  },
  {
   "cell_type": "code",
   "execution_count": 3,
   "id": "c34977cc-3b00-45bc-9f29-85db6e12db01",
   "metadata": {
    "tags": []
   },
   "outputs": [
    {
     "name": "stdout",
     "output_type": "stream",
     "text": [
      "17\n"
     ]
    }
   ],
   "source": [
    "# This is a simple arithmetic expression to multiply then add integers.\n",
    "result = (3 * 4) + 5\n",
    "print(result)\n"
   ]
  },
  {
   "cell_type": "code",
   "execution_count": 4,
   "id": "a4dd0d5a-a4fb-4778-a43a-974ece9fe184",
   "metadata": {
    "tags": []
   },
   "outputs": [
    {
     "name": "stdout",
     "output_type": "stream",
     "text": [
      "3.3333333333333335\n"
     ]
    }
   ],
   "source": [
    "# This is a simple arithmetic expression to multiply then add intgers.\n",
    "minutes = 200\n",
    "hours = minutes / 60\n",
    "print(hours)\n"
   ]
  },
  {
   "cell_type": "markdown",
   "id": "9847622c-5bdf-4f73-b9ab-5a364a334793",
   "metadata": {
    "tags": []
   },
   "source": [
    "## Author\n",
    "Mohamed Ali Dinar\n"
   ]
  },
  {
   "cell_type": "markdown",
   "id": "e5db1565-fb22-4147-a4ed-441ff94e95dc",
   "metadata": {},
   "source": [
    "[Link to My GitHub Repository](https://github.com/your_username/your_repository)\n"
   ]
  }
 ],
 "metadata": {
  "kernelspec": {
   "display_name": "Python",
   "language": "python",
   "name": "conda-env-python-py"
  },
  "language_info": {
   "codemirror_mode": {
    "name": "ipython",
    "version": 3
   },
   "file_extension": ".py",
   "mimetype": "text/x-python",
   "name": "python",
   "nbconvert_exporter": "python",
   "pygments_lexer": "ipython3",
   "version": "3.7.12"
  }
 },
 "nbformat": 4,
 "nbformat_minor": 5
}
